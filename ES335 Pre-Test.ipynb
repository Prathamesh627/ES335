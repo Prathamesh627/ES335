{
 "cells": [
  {
   "cell_type": "markdown",
   "id": "b55baa47",
   "metadata": {},
   "source": [
    "#  ES 335 - Prerequsite Test Submission"
   ]
  },
  {
   "cell_type": "markdown",
   "id": "04a53822",
   "metadata": {},
   "source": [
    "**Roll Number:** 24250067 <br> \n",
    "**Program:** MTech in AI<br>\n",
    "**Year:** Year I<br>"
   ]
  },
  {
   "cell_type": "markdown",
   "id": "798f81fc",
   "metadata": {},
   "source": [
    "**Q1. How many multiplications and additions do you need to perform a matrix multiplication between a (n, k) and (k, m) matrix? Explain.** "
   ]
  },
  {
   "cell_type": "markdown",
   "id": "76324e21",
   "metadata": {},
   "source": [
    "**Solution :**\n",
    "\n",
    "Consider a matrix A(n,k) and matrix B(k,m).\n",
    "Matrix multiplication i.e. A$\\times$B, produces a matrix of order (n,m), say C. Here, every element of $i^{th}$ row and $j^{th}$ column of C gets produced when all the $i^{th}$ row elements of the matrix A multiply with their corresponding $j^{th}$ column elements of the matrix B and those products are subsiquently added. That is:\n",
    "$$\\Large{c_{ij}=\\sum_{x=1}^{k}a_{ix}b_{xj}}$$\n",
    "\n",
    "Thus to produce one element through matrix multiplication, **$k$** additions and **$k$** multiplications are required. Since the matrix multiplication would produce **n$\\times$m** such elements, the total number of additions and multplications needed are same and is eqaul to  **n$\\times$m$\\times$k**."
   ]
  },
  {
   "cell_type": "markdown",
   "id": "19a2f320",
   "metadata": {},
   "source": [
    "**Q2. Write Python code to multiply the above two matrices. Solve using list of lists and then use numpy. Compare the timing of both solutions. Which one is faster? Why?** "
   ]
  },
  {
   "cell_type": "markdown",
   "id": "e595841c",
   "metadata": {},
   "source": [
    "**Solution:** <br>\n",
    "**Method 1: By using Lists**"
   ]
  },
  {
   "cell_type": "code",
   "execution_count": 3,
   "id": "bf47a5e7",
   "metadata": {},
   "outputs": [
    {
     "name": "stdout",
     "output_type": "stream",
     "text": [
      "Input the number of rows of 1st matrix:1\n",
      "Input the number of columns of 1st matrix:2\n",
      "For effective matrix multiplication,number of columns of 1st matrix and the number of rows of second matrix must be 2\n",
      "Input the number of columns of 2nd matrix:3\n"
     ]
    }
   ],
   "source": [
    "# Multiplication of Matrices\n",
    "\n",
    "#User Input of matrices\n",
    "n=int(input(\"Input the number of rows of 1st matrix:\"))\n",
    "k=int(input(\"Input the number of columns of 1st matrix:\"))\n",
    "print(\"For effective matrix multiplication,number of columns of 1st matrix and the number of rows of second matrix must be\",k)\n",
    "m=int(input(\"Input the number of columns of 2nd matrix:\"))\n",
    "A=[]\n",
    "B=[]"
   ]
  },
  {
   "cell_type": "code",
   "execution_count": 4,
   "id": "ecefa627",
   "metadata": {},
   "outputs": [
    {
     "name": "stdout",
     "output_type": "stream",
     "text": [
      "Input first matrix:\n",
      "Input the elements of row: 1\n",
      "1\n",
      "2\n",
      "Input Second matrix:\n",
      "Input the elements of row: 1\n",
      "3\n",
      "6\n",
      "1\n",
      "Input the elements of row: 2\n",
      "4\n",
      "7\n",
      "1\n"
     ]
    }
   ],
   "source": [
    "print(\"Input first matrix:\")\n",
    "for i in range(n):\n",
    "    print(\"Input the elements of row:\",i+1)\n",
    "    row=[]\n",
    "    for j in range(k):\n",
    "        row.append(int(input()))\n",
    "    A.append(row)\n",
    "\n",
    "print(\"Input Second matrix:\")\n",
    "for i in range(k):\n",
    "    print(\"Input the elements of row:\",i+1)\n",
    "    row=[]\n",
    "    for j in range(m):\n",
    "        row.append(int(input()))\n",
    "    B.append(row)"
   ]
  },
  {
   "cell_type": "code",
   "execution_count": 5,
   "id": "23b8b413",
   "metadata": {},
   "outputs": [
    {
     "name": "stdout",
     "output_type": "stream",
     "text": [
      "[[1, 2]]\n",
      "[[3, 6, 1], [4, 7, 1]]\n"
     ]
    }
   ],
   "source": [
    "print(A)\n",
    "print(B)"
   ]
  },
  {
   "cell_type": "code",
   "execution_count": 20,
   "id": "5e7861e1",
   "metadata": {},
   "outputs": [
    {
     "name": "stdout",
     "output_type": "stream",
     "text": [
      "Execution time for Matrix multiplication without numpy is: 0.0001700999855529517\n"
     ]
    }
   ],
   "source": [
    "from timeit import default_timer as timer\n",
    "\n",
    "#Matrix Multiplication\n",
    "C=[]\n",
    "start_time = timer()\n",
    "def matmulbylist(A,B):\n",
    "    for i in range(n):\n",
    "        row=[]\n",
    "        for j in range(m):\n",
    "            Sum=0\n",
    "            for x in range(k):\n",
    "                Sum+=A[i][x]*B[x][j] #Matrix getting multiplied\n",
    "            row.append(Sum)\n",
    "        C.append(row)\n",
    "    return C\n",
    "\n",
    "C=matmulbylist(A,B)\n",
    "end_time = timer()\n",
    "\n",
    "time_elapsed_without_numpy = end_time - start_time\n",
    "\n",
    "print(\"Execution time for Matrix multiplication without numpy is:\",time_elapsed_without_numpy)\n"
   ]
  },
  {
   "cell_type": "code",
   "execution_count": 21,
   "id": "f95b8e27",
   "metadata": {},
   "outputs": [
    {
     "data": {
      "text/plain": [
       "[[11, 20, 3]]"
      ]
     },
     "execution_count": 21,
     "metadata": {},
     "output_type": "execute_result"
    }
   ],
   "source": [
    "C"
   ]
  },
  {
   "cell_type": "markdown",
   "id": "6674fcf5",
   "metadata": {},
   "source": [
    "**Method 2: By using numpy**"
   ]
  },
  {
   "cell_type": "code",
   "execution_count": 19,
   "id": "a5cf5375",
   "metadata": {},
   "outputs": [
    {
     "name": "stdout",
     "output_type": "stream",
     "text": [
      "Execution time for Matrix multiplication by numpy is: 90.67070340001374\n",
      "Using Numpy slows the execution!\n"
     ]
    }
   ],
   "source": [
    "import numpy as np\n",
    "#start2=time.time()\n",
    "A_ar=np.array(A)\n",
    "B_ar=np.array(B)\n",
    "start_timer = timer()\n",
    "C_ar=np.dot(A,B)\n",
    "end_time = timer()\n",
    "C_ar\n",
    "time_elapsed_with_numpy = end_time - start_time\n",
    "#end2=time.time()\n",
    "print(\"Execution time for Matrix multiplication by numpy is:\",time_elapsed_with_numpy)\n",
    "\n",
    "if time_elapsed_with_numpy < time_elapsed_without_numpy:\n",
    "    print('Using Numpy makes the execution faster!')\n",
    "else:\n",
    "    print('Using Numpy slows the execution!')"
   ]
  },
  {
   "cell_type": "markdown",
   "id": "19a4b985",
   "metadata": {},
   "source": [
    "**Q3. Finding the highest element in a list requires one pass of the array. Finding the second highest element requires 2 passes of the the array. Using this method, what is the time complexity of finding the median of the array? Can you suggest a better method? Can you implement both these methods in Python and compare against `numpy.median` routine in terms of time?** "
   ]
  },
  {
   "cell_type": "code",
   "execution_count": 9,
   "id": "e8d49f45",
   "metadata": {},
   "outputs": [
    {
     "name": "stdout",
     "output_type": "stream",
     "text": [
      "Time for first method: 0.045682 seconds\n",
      "Time for second method: 0.003450 seconds\n",
      "Time for numpy method: 0.116888 seconds\n"
     ]
    }
   ],
   "source": [
    "import numpy as np\n",
    "\n",
    "def median_first_method(A):\n",
    "    def find_max(A):\n",
    "        max_val = A[0]\n",
    "        for val in A[1:]:\n",
    "            if val > max_val:\n",
    "                max_val = val\n",
    "        return max_val\n",
    "\n",
    "    sorted_list = []\n",
    "    temp_list = A[:]\n",
    "    \n",
    "    while temp_list:\n",
    "        max_val = find_max(temp_list)\n",
    "        sorted_list.append(max_val)\n",
    "        temp_list.remove(max_val)\n",
    "    \n",
    "    n = len(sorted_list)\n",
    "    if n % 2 == 1:\n",
    "        return sorted_list[n // 2]\n",
    "    else:\n",
    "        mid1 = sorted_list[n // 2 - 1]\n",
    "        mid2 = sorted_list[n // 2]\n",
    "        return (mid1 + mid2) / 2\n",
    "\n",
    "A = [1, 5, 7, 8, 12, 35, 6, 0, 3, 7, 9, 23, 22, 4, 90]\n",
    "\n",
    "\n",
    "def median_efficient(A):\n",
    "    sorted_list = sorted(A)\n",
    "    n = len(A)\n",
    "    if n % 2 == 1:\n",
    "        \n",
    "        return sorted_list[n // 2]\n",
    "    else:\n",
    "        mid1 = sorted_list[n // 2 - 1]\n",
    "        mid2 = sorted_list[n // 2]\n",
    "        return (mid1 + mid2) / 2\n",
    "def median_usingnp(A):\n",
    "    return np.median(A)\n",
    "\n",
    "import timeit\n",
    "\n",
    "def test_1 ():\n",
    "    return median_first_method (A[:])\n",
    "def test_2 ():\n",
    "    return median_efficient(A[:])\n",
    "def test_3 ():\n",
    "    return median_usingnp(A[:])\n",
    "time_1 = timeit.timeit(test_1, number=1000)\n",
    "time_2 = timeit.timeit(test_2, number=1000)\n",
    "time_3 = timeit.timeit(test_3, number=1000)\n",
    "\n",
    "print(f\"Time for first method: {time_1:.6f} seconds\")\n",
    "print(f\"Time for second method: {time_2:.6f} seconds\")\n",
    "print(f\"Time for numpy method: {time_3:.6f} seconds\")"
   ]
  },
  {
   "cell_type": "markdown",
   "id": "bf3e617a",
   "metadata": {},
   "source": [
    "**Q4. What is the gradient of the following function with respect to x and y?** <br>\n",
    "\n",
    "**$\\Large{x^2y + y^3sin(x)}$**"
   ]
  },
  {
   "cell_type": "markdown",
   "id": "86861937",
   "metadata": {},
   "source": [
    "**Solution:** <br>\n",
    "Gradient $\\nabla$ of a function $f(x,y)$ is given by:\n",
    "$$\\nabla f(x, y) = \\frac{\\partial f}{\\partial x} \\hat{i} + \\frac{\\partial f}{\\partial y} \\hat{j}$$ where $\\frac{\\partial f}{\\partial x}$ is the partial derivative of the function wrt $x$ and $\\frac{\\partial f}{\\partial y}$ is the partial derivative of the function wrt $y$. <br>\n",
    "Given function is: **$x^2y + y^3sin(x)$** <br>\n",
    "Thus it's gradient is given by: <br>$\\nabla f(x, y) = (2xy+ y^3cos(x))\\hat{i} + (x^2+2y^2sin(x))\\hat{j}$"
   ]
  },
  {
   "cell_type": "markdown",
   "id": "f1697481",
   "metadata": {},
   "source": [
    "**Q5. Use `JAX` to confirm the gradient evaluated by your method matches the analytical solution corresponding to a few random values of x and y** "
   ]
  },
  {
   "cell_type": "markdown",
   "id": "186fe466",
   "metadata": {},
   "source": [
    "**Solution:**"
   ]
  },
  {
   "cell_type": "code",
   "execution_count": 113,
   "id": "c81642aa",
   "metadata": {
    "scrolled": true
   },
   "outputs": [
    {
     "name": "stdout",
     "output_type": "stream",
     "text": [
      "Requirement already satisfied: jax in c:\\users\\shanb\\anaconda3\\anaconda3\\lib\\site-packages (0.4.31)\n",
      "Requirement already satisfied: ml-dtypes>=0.2.0 in c:\\users\\shanb\\anaconda3\\anaconda3\\lib\\site-packages (from jax) (0.4.0)\n",
      "Requirement already satisfied: jaxlib<=0.4.31,>=0.4.30 in c:\\users\\shanb\\anaconda3\\anaconda3\\lib\\site-packages (from jax) (0.4.31)\n",
      "Requirement already satisfied: opt-einsum in c:\\users\\shanb\\anaconda3\\anaconda3\\lib\\site-packages (from jax) (3.3.0)\n",
      "Requirement already satisfied: numpy>=1.24 in c:\\users\\shanb\\anaconda3\\anaconda3\\lib\\site-packages (from jax) (1.26.4)\n",
      "Requirement already satisfied: scipy>=1.10 in c:\\users\\shanb\\anaconda3\\anaconda3\\lib\\site-packages (from jax) (1.10.0)\n",
      "Note: you may need to restart the kernel to use updated packages.\n"
     ]
    }
   ],
   "source": [
    "pip install jax"
   ]
  },
  {
   "cell_type": "code",
   "execution_count": 2,
   "id": "bfbc8b85",
   "metadata": {},
   "outputs": [
    {
     "name": "stdout",
     "output_type": "stream",
     "text": [
      "0.23235118\n"
     ]
    }
   ],
   "source": [
    "import jax\n",
    "import numpy as np\n",
    "import jax.numpy as jnp\n",
    "import math as m\n",
    "def fn(x,y):\n",
    "    return ((x**2)*y+(y**3)*jnp.sin(x))\n",
    "grad_f=jax.grad(fn)\n",
    "#creating random x and y values\n",
    "x=np.random.randn()\n",
    "y=np.random.randn()\n",
    "grad_val=grad_f(x,y)\n",
    "print(grad_val)"
   ]
  },
  {
   "cell_type": "markdown",
   "id": "5ec74d2d",
   "metadata": {},
   "source": [
    "**Q6. Use `sympy` to confirm that you obtain the same gradient analytically.** "
   ]
  },
  {
   "cell_type": "code",
   "execution_count": 10,
   "id": "b88d1e8a",
   "metadata": {},
   "outputs": [],
   "source": [
    "# I N C O M P L E T E"
   ]
  },
  {
   "cell_type": "markdown",
   "id": "7b3f025c",
   "metadata": {},
   "source": [
    "**Q7. Create a Python nested dictionary to represent hierarchical information. We want to store record of students and their marks. Something like:**\n",
    "   1. 2022\n",
    "      1. Branch 1\n",
    "         1. Roll Number: 1, Name: N, Marks:\n",
    "            1. Maths: 100, English: 70 …\n",
    "      2. Branch 2\n",
    "   2. 2023\n",
    "      1. Branch 1\n",
    "      2. Branch 2\n",
    "   3. 2024\n",
    "      1. Branch 1\n",
    "      2. Branch 2\n",
    "   4. 2025\n",
    "      1. Branch 1\n",
    "      2. Branch 2"
   ]
  },
  {
   "cell_type": "markdown",
   "id": "892b18ce",
   "metadata": {},
   "source": [
    "**Solution:**"
   ]
  },
  {
   "cell_type": "code",
   "execution_count": 25,
   "id": "40e0cc41",
   "metadata": {},
   "outputs": [
    {
     "data": {
      "text/plain": [
       "{'2022': {'Branch 1': {'Student1': {'Roll No': None,\n",
       "    'Name': None,\n",
       "    'Marks': {'Maths': None, 'Science': None}},\n",
       "   'Student2': {'Roll No': None,\n",
       "    'Name': None,\n",
       "    'Marks': {'Maths': None, 'Science': None}}},\n",
       "  'Branch 2': {'Student1': {'Roll No': None,\n",
       "    'Name': None,\n",
       "    'Marks': {'Maths': None, 'Science': None},\n",
       "    'Student2': {'Roll No': None,\n",
       "     'Name': None,\n",
       "     'Marks': {'Maths': None, 'Science': None}}}}},\n",
       " '2023': {'Branch 1': {'Student1': {'Roll No': None,\n",
       "    'Name': None,\n",
       "    'Marks': {'Maths': None, 'Science': None}},\n",
       "   'Student2': {'Roll No': None,\n",
       "    'Name': None,\n",
       "    'Marks': {'Maths': None, 'Science': None}}},\n",
       "  'Branch 2': {'Student1': {'Roll No': None,\n",
       "    'Name': None,\n",
       "    'Marks': {'Maths': None, 'Science': None}},\n",
       "   'Student2': {'Roll No': None,\n",
       "    'Name': None,\n",
       "    'Marks': {'Maths': None, 'Science': None}}}},\n",
       " '2024': {'Branch 1': {'Student1': {'Roll No': None,\n",
       "    'Name': None,\n",
       "    'Marks': {'Maths': None, 'Science': None}},\n",
       "   'Student2': {'Roll No': None,\n",
       "    'Name': None,\n",
       "    'Marks': {'Maths': None, 'Science': None}}},\n",
       "  'Branch 2': {'Student1': {'Roll No': None,\n",
       "    'Name': None,\n",
       "    'Marks': {'Maths': None, 'Science': None},\n",
       "    'Student2': {'Roll No': None,\n",
       "     'Name': None,\n",
       "     'Marks': {'Maths': None, 'Science': None}}}}},\n",
       " '2025': {'Branch 1': {'Student1': {'Roll No': None,\n",
       "    'Name': None,\n",
       "    'Marks': {'Maths': None, 'Science': None}},\n",
       "   'Student2': {'Roll No': None,\n",
       "    'Name': None,\n",
       "    'Marks': {'Maths': None, 'Science': None}}},\n",
       "  'Branch 2': {'Student1': {'Roll No': None,\n",
       "    'Name': None,\n",
       "    'Marks': {'Maths': None, 'Science': None},\n",
       "    'Student2': {'Roll No': None,\n",
       "     'Name': None,\n",
       "     'Marks': {'Maths': None, 'Science': None}}}}}}"
      ]
     },
     "execution_count": 25,
     "metadata": {},
     "output_type": "execute_result"
    }
   ],
   "source": [
    "Database={\n",
    "    '2022':{\n",
    "        'Branch 1':{\n",
    "            'Student1':{'Roll No':None, 'Name':None, 'Marks':{\n",
    "                'Maths':None,'Science':None}},\n",
    "             'Student2':{'Roll No':None, 'Name':None, 'Marks':{\n",
    "                'Maths':None,'Science':None}           \n",
    "            }},\n",
    "        'Branch 2':{\n",
    "            'Student1':{'Roll No':None, 'Name':None, 'Marks':{\n",
    "                'Maths':None,'Science':None},\n",
    "            'Student2':{'Roll No':None, 'Name':None, 'Marks':{\n",
    "                'Maths':None,'Science':None}\n",
    "            }}\n",
    "        }\n",
    "    },\n",
    "    '2023':{\n",
    "        'Branch 1':{\n",
    "            'Student1':{'Roll No':None, 'Name':None, 'Marks':{\n",
    "                'Maths':None,'Science':None}},\n",
    "             'Student2':{'Roll No':None, 'Name':None, 'Marks':{\n",
    "                'Maths':None,'Science':None}           \n",
    "            }},\n",
    "        'Branch 2':{\n",
    "            'Student1':{'Roll No':None, 'Name':None, 'Marks':{\n",
    "                'Maths':None,'Science':None}},\n",
    "            'Student2':{'Roll No':None, 'Name':None, 'Marks':{\n",
    "                'Maths':None,'Science':None}\n",
    "            }}\n",
    "        },\n",
    "    '2024':{\n",
    "        'Branch 1':{\n",
    "            'Student1':{'Roll No':None, 'Name':None, 'Marks':{\n",
    "                'Maths':None,'Science':None}},\n",
    "             'Student2':{'Roll No':None, 'Name':None, 'Marks':{\n",
    "                'Maths':None,'Science':None}           \n",
    "            }},\n",
    "        'Branch 2':{\n",
    "            'Student1':{'Roll No':None, 'Name':None, 'Marks':{\n",
    "                'Maths':None,'Science':None},\n",
    "            'Student2':{'Roll No':None, 'Name':None, 'Marks':{\n",
    "                'Maths':None,'Science':None}\n",
    "            }}\n",
    "        }\n",
    "    },\n",
    "    '2025':{\n",
    "        'Branch 1':{\n",
    "            'Student1':{'Roll No':None, 'Name':None, 'Marks':{\n",
    "                'Maths':None,'Science':None}},\n",
    "             'Student2':{'Roll No':None, 'Name':None, 'Marks':{\n",
    "                'Maths':None,'Science':None}           \n",
    "            }},\n",
    "        'Branch 2':{\n",
    "            'Student1':{'Roll No':None, 'Name':None, 'Marks':{\n",
    "                'Maths':None,'Science':None},\n",
    "            'Student2':{'Roll No':None, 'Name':None, 'Marks':{\n",
    "                'Maths':None,'Science':None}\n",
    "            }}\n",
    "        }\n",
    "    }\n",
    "}\n",
    "Database"
   ]
  },
  {
   "cell_type": "markdown",
   "id": "ca49c365",
   "metadata": {},
   "source": [
    "**Q8. Store the same information using Python classes. We have an overall database which is a list of year objects. Each year contains a list of branches. Each branch contains a list of students. Each student has some properties like name, roll number and has marks in some subjects.** "
   ]
  },
  {
   "cell_type": "code",
   "execution_count": null,
   "id": "1940c4f7",
   "metadata": {},
   "outputs": [],
   "source": [
    "# INCOMPLETE"
   ]
  },
  {
   "cell_type": "markdown",
   "id": "2a457c89",
   "metadata": {},
   "source": [
    "**Q9. Using matplotlib plot the following functions on the domain: x = 0.5 to 100.0 in steps of 0.5.**\n",
    "1. $y=x$ <br>\n",
    "2. $y=x^2$ <br>\n",
    "3. $y=\\frac{x^3}{100}$ <br>\n",
    "4. $y = \\sin(x)$ <br>\n",
    "5. $y = \\frac{\\sin(x)}{x}$ <br>\n",
    "6. $y = \\log(x)$ <br>\n",
    "7. $y = e^x$"
   ]
  },
  {
   "cell_type": "markdown",
   "id": "0e447c6e",
   "metadata": {},
   "source": [
    "**Solution:** <br>\n"
   ]
  },
  {
   "cell_type": "code",
   "execution_count": 37,
   "id": "4056cebe",
   "metadata": {},
   "outputs": [],
   "source": [
    "# Importing matplotlib and defining the domain using numpy array\n",
    "import matplotlib.pyplot as plt\n",
    "x=np.arange(0.5,100,0.5)"
   ]
  },
  {
   "cell_type": "markdown",
   "id": "8946709c",
   "metadata": {},
   "source": [
    "1. $y=x$"
   ]
  },
  {
   "cell_type": "code",
   "execution_count": 44,
   "id": "cffd08de",
   "metadata": {},
   "outputs": [
    {
     "data": {
      "text/plain": [
       "[<matplotlib.lines.Line2D at 0x1fbce12b8e0>]"
      ]
     },
     "execution_count": 44,
     "metadata": {},
     "output_type": "execute_result"
    },
    {
     "data": {
      "image/png": "[encoded data removed]",
      "text/plain": [
       "<Figure size 640x480 with 1 Axes>"
      ]
     },
     "metadata": {},
     "output_type": "display_data"
    }
   ],
   "source": [
    "y=x\n",
    "plt.ylabel(\"y\")\n",
    "plt.xlabel(\"x\")\n",
    "plt.title(\"Plot for $y=x$\")\n",
    "plt.grid()\n",
    "plt.plot(x,y)"
   ]
  },
  {
   "cell_type": "markdown",
   "id": "fc5d9286",
   "metadata": {},
   "source": [
    "2. $y=x^2$"
   ]
  },
  {
   "cell_type": "code",
   "execution_count": 46,
   "id": "82aaaf34",
   "metadata": {},
   "outputs": [
    {
     "data": {
      "text/plain": [
       "[<matplotlib.lines.Line2D at 0x1fbce177340>]"
      ]
     },
     "execution_count": 46,
     "metadata": {},
     "output_type": "execute_result"
    },
    {
     "data": {
      "image/png": "[encoded data removed]",
      "text/plain": [
       "<Figure size 640x480 with 1 Axes>"
      ]
     },
     "metadata": {},
     "output_type": "display_data"
    }
   ],
   "source": [
    "y2=x**2\n",
    "plt.ylabel(\"y\")\n",
    "plt.xlabel(\"x\")\n",
    "plt.title(\"Plot for $y=x^2$\")\n",
    "plt.grid()\n",
    "plt.plot(x,y2,color='red')"
   ]
  },
  {
   "cell_type": "markdown",
   "id": "be7a068d",
   "metadata": {},
   "source": [
    "3. $y=\\frac{x^3}{100}$"
   ]
  },
  {
   "cell_type": "code",
   "execution_count": 52,
   "id": "30d5c05c",
   "metadata": {},
   "outputs": [
    {
     "data": {
      "text/plain": [
       "[<matplotlib.lines.Line2D at 0x1fbd12df610>]"
      ]
     },
     "execution_count": 52,
     "metadata": {},
     "output_type": "execute_result"
    },
    {
     "data": {
      "image/png": "[encoded data removed]",
      "text/plain": [
       "<Figure size 640x480 with 1 Axes>"
      ]
     },
     "metadata": {},
     "output_type": "display_data"
    }
   ],
   "source": [
    "y3=x**3/100\n",
    "plt.ylabel(\"y\")\n",
    "plt.xlabel(\"x\")\n",
    "plt.title(r\"Plot for $y=\\frac{x^3}{100}$\")\n",
    "plt.grid()\n",
    "plt.plot(x,y3,color='red',linestyle='dashdot')"
   ]
  },
  {
   "cell_type": "markdown",
   "id": "b7243273",
   "metadata": {},
   "source": [
    "4. $y=\\sin(x)$"
   ]
  },
  {
   "cell_type": "code",
   "execution_count": 57,
   "id": "f67f3b0a",
   "metadata": {
    "scrolled": true
   },
   "outputs": [
    {
     "data": {
      "text/plain": [
       "<matplotlib.lines.Line2D at 0x1fbd20f86a0>"
      ]
     },
     "execution_count": 57,
     "metadata": {},
     "output_type": "execute_result"
    },
    {
     "data": {
      "image/png": "[encoded data removed]",
      "text/plain": [
       "<Figure size 640x480 with 1 Axes>"
      ]
     },
     "metadata": {},
     "output_type": "display_data"
    }
   ],
   "source": [
    "y4=np.sin(x)\n",
    "plt.ylabel(\"y\")\n",
    "plt.xlabel(\"x\")\n",
    "plt.title(r\"Plot for $y=\\sin(x)$\")\n",
    "plt.grid()\n",
    "plt.plot(x,y4,color='green')\n",
    "plt.axhline(0,color='black',linestyle='dotted')"
   ]
  },
  {
   "cell_type": "markdown",
   "id": "0065fb7d",
   "metadata": {},
   "source": [
    "5. $y=\\frac{\\sin(x)}{x}$"
   ]
  },
  {
   "cell_type": "code",
   "execution_count": 59,
   "id": "8dd924eb",
   "metadata": {},
   "outputs": [
    {
     "data": {
      "text/plain": [
       "<matplotlib.lines.Line2D at 0x1fbd24132e0>"
      ]
     },
     "execution_count": 59,
     "metadata": {},
     "output_type": "execute_result"
    },
    {
     "data": {
      "image/png": "[encoded data removed]",
      "text/plain": [
       "<Figure size 640x480 with 1 Axes>"
      ]
     },
     "metadata": {},
     "output_type": "display_data"
    }
   ],
   "source": [
    "y5=np.sin(x)/x\n",
    "plt.ylabel(\"y\")\n",
    "plt.xlabel(\"x\")\n",
    "plt.title(r\"Plot for $y=\\frac{\\sin(x)}{x}$\")\n",
    "plt.grid()\n",
    "plt.plot(x,y5,color='green')\n",
    "plt.plot(x,)\n",
    "plt.axhline(0,color='black',linestyle='dotted')"
   ]
  },
  {
   "cell_type": "markdown",
   "id": "e1b7d94f",
   "metadata": {},
   "source": [
    "6. $y=\\log(x)$"
   ]
  },
  {
   "cell_type": "code",
   "execution_count": 61,
   "id": "815c06be",
   "metadata": {
    "scrolled": true
   },
   "outputs": [
    {
     "data": {
      "text/plain": [
       "<matplotlib.lines.Line2D at 0x1fbd2895c00>"
      ]
     },
     "execution_count": 61,
     "metadata": {},
     "output_type": "execute_result"
    },
    {
     "data": {
      "image/png": "[encoded data removed]",
      "text/plain": [
       "<Figure size 640x480 with 1 Axes>"
      ]
     },
     "metadata": {},
     "output_type": "display_data"
    }
   ],
   "source": [
    "y6=np.log(x)\n",
    "plt.ylabel(\"y\")\n",
    "plt.xlabel(\"x\")\n",
    "plt.title(r\"Plot for $y=\\log(x)$\")\n",
    "plt.grid()\n",
    "plt.plot(x,y6,color='violet')\n",
    "plt.axhline(0,color='black',linestyle='dotted')"
   ]
  },
  {
   "cell_type": "markdown",
   "id": "01faf376",
   "metadata": {},
   "source": [
    "7. $y=e^x$"
   ]
  },
  {
   "cell_type": "code",
   "execution_count": 64,
   "id": "d9e31330",
   "metadata": {
    "scrolled": true
   },
   "outputs": [
    {
     "data": {
      "text/plain": [
       "[<matplotlib.lines.Line2D at 0x1fbd2ccc7c0>]"
      ]
     },
     "execution_count": 64,
     "metadata": {},
     "output_type": "execute_result"
    },
    {
     "data": {
      "image/png": "[encoded data removed]",
      "text/plain": [
       "<Figure size 640x480 with 1 Axes>"
      ]
     },
     "metadata": {},
     "output_type": "display_data"
    }
   ],
   "source": [
    "y7=np.exp(x)\n",
    "plt.ylabel(\"y\")\n",
    "plt.xlabel(\"x\")\n",
    "plt.title(r\"Plot for $y=e^x$\")\n",
    "plt.grid()\n",
    "plt.plot(x,y7,color='purple')"
   ]
  },
  {
   "cell_type": "markdown",
   "id": "2b850e89",
   "metadata": {},
   "source": [
    "**Q10. Using numpy generate a matrix of size `20X5` containing random numbers drawn uniformly from the range of 1 to 2. Using Pandas create a dataframe out of this matrix. Name the columns of the dataframe as “a”, “b”, “c”, “d”, “e”. Find the column with the highest standard deviation. Find the row with the lowest mean.** "
   ]
  },
  {
   "cell_type": "markdown",
   "id": "d6701209",
   "metadata": {},
   "source": [
    "**Solution:**"
   ]
  },
  {
   "cell_type": "code",
   "execution_count": 75,
   "id": "da9c66d1",
   "metadata": {
    "scrolled": true
   },
   "outputs": [
    {
     "data": {
      "text/plain": [
       "array([[1.8629574 , 1.07609722, 1.7163275 , 1.23858771, 1.31393908],\n",
       "       [1.72508409, 1.92131133, 1.04235802, 1.75457607, 1.11068615],\n",
       "       [1.61712983, 1.05074949, 1.94897756, 1.28373213, 1.09126499],\n",
       "       [1.42010978, 1.00599697, 1.37409231, 1.33010346, 1.49457026],\n",
       "       [1.64979313, 1.51559224, 1.58962163, 1.5568472 , 1.6649597 ],\n",
       "       [1.58033346, 1.52692919, 1.79448472, 1.06795177, 1.75438745],\n",
       "       [1.43974533, 1.10418228, 1.72148964, 1.89276447, 1.64632544],\n",
       "       [1.0635296 , 1.91491491, 1.1254395 , 1.36337699, 1.92229285],\n",
       "       [1.91889277, 1.12733553, 1.27459038, 1.59870986, 1.56789239],\n",
       "       [1.61056021, 1.01013379, 1.9986918 , 1.20513848, 1.2329324 ],\n",
       "       [1.09041854, 1.18535777, 1.85220459, 1.61237063, 1.28342717],\n",
       "       [1.94745938, 1.8258281 , 1.45781269, 1.15222604, 1.99564544],\n",
       "       [1.29894151, 1.25451304, 1.61390245, 1.25441065, 1.71333921],\n",
       "       [1.88533836, 1.54902143, 1.92705414, 1.54321996, 1.50638171],\n",
       "       [1.07897973, 1.07087613, 1.40130257, 1.25317709, 1.05287318],\n",
       "       [1.7367957 , 1.53837499, 1.82383412, 1.27133771, 1.56398999],\n",
       "       [1.58369833, 1.1652211 , 1.25760554, 1.6124028 , 1.28647171],\n",
       "       [1.06779053, 1.079844  , 1.30107332, 1.49023125, 1.57425292],\n",
       "       [1.04671365, 1.86459977, 1.71580566, 1.83758117, 1.14912698],\n",
       "       [1.67727587, 1.31134201, 1.23825895, 1.47218706, 1.85340244]])"
      ]
     },
     "execution_count": 75,
     "metadata": {},
     "output_type": "execute_result"
    }
   ],
   "source": [
    "# Creating a numpy array of 20*5\n",
    "lin=np.random.uniform(1,2,100)\n",
    "req_arr=lin.reshape(20,5)\n",
    "req_arr"
   ]
  },
  {
   "cell_type": "code",
   "execution_count": 76,
   "id": "2b9ea9c5",
   "metadata": {},
   "outputs": [
    {
     "data": {
      "text/html": [
       "<div>\n",
       "<style scoped>\n",
       "    .dataframe tbody tr th:only-of-type {\n",
       "        vertical-align: middle;\n",
       "    }\n",
       "\n",
       "    .dataframe tbody tr th {\n",
       "        vertical-align: top;\n",
       "    }\n",
       "\n",
       "    .dataframe thead th {\n",
       "        text-align: right;\n",
       "    }\n",
       "</style>\n",
       "<table border=\"1\" class=\"dataframe\">\n",
       "  <thead>\n",
       "    <tr style=\"text-align: right;\">\n",
       "      <th></th>\n",
       "      <th>a</th>\n",
       "      <th>b</th>\n",
       "      <th>c</th>\n",
       "      <th>d</th>\n",
       "      <th>e</th>\n",
       "    </tr>\n",
       "  </thead>\n",
       "  <tbody>\n",
       "    <tr>\n",
       "      <th>0</th>\n",
       "      <td>1.862957</td>\n",
       "      <td>1.076097</td>\n",
       "      <td>1.716328</td>\n",
       "      <td>1.238588</td>\n",
       "      <td>1.313939</td>\n",
       "    </tr>\n",
       "    <tr>\n",
       "      <th>1</th>\n",
       "      <td>1.725084</td>\n",
       "      <td>1.921311</td>\n",
       "      <td>1.042358</td>\n",
       "      <td>1.754576</td>\n",
       "      <td>1.110686</td>\n",
       "    </tr>\n",
       "    <tr>\n",
       "      <th>2</th>\n",
       "      <td>1.617130</td>\n",
       "      <td>1.050749</td>\n",
       "      <td>1.948978</td>\n",
       "      <td>1.283732</td>\n",
       "      <td>1.091265</td>\n",
       "    </tr>\n",
       "    <tr>\n",
       "      <th>3</th>\n",
       "      <td>1.420110</td>\n",
       "      <td>1.005997</td>\n",
       "      <td>1.374092</td>\n",
       "      <td>1.330103</td>\n",
       "      <td>1.494570</td>\n",
       "    </tr>\n",
       "    <tr>\n",
       "      <th>4</th>\n",
       "      <td>1.649793</td>\n",
       "      <td>1.515592</td>\n",
       "      <td>1.589622</td>\n",
       "      <td>1.556847</td>\n",
       "      <td>1.664960</td>\n",
       "    </tr>\n",
       "    <tr>\n",
       "      <th>5</th>\n",
       "      <td>1.580333</td>\n",
       "      <td>1.526929</td>\n",
       "      <td>1.794485</td>\n",
       "      <td>1.067952</td>\n",
       "      <td>1.754387</td>\n",
       "    </tr>\n",
       "    <tr>\n",
       "      <th>6</th>\n",
       "      <td>1.439745</td>\n",
       "      <td>1.104182</td>\n",
       "      <td>1.721490</td>\n",
       "      <td>1.892764</td>\n",
       "      <td>1.646325</td>\n",
       "    </tr>\n",
       "    <tr>\n",
       "      <th>7</th>\n",
       "      <td>1.063530</td>\n",
       "      <td>1.914915</td>\n",
       "      <td>1.125439</td>\n",
       "      <td>1.363377</td>\n",
       "      <td>1.922293</td>\n",
       "    </tr>\n",
       "    <tr>\n",
       "      <th>8</th>\n",
       "      <td>1.918893</td>\n",
       "      <td>1.127336</td>\n",
       "      <td>1.274590</td>\n",
       "      <td>1.598710</td>\n",
       "      <td>1.567892</td>\n",
       "    </tr>\n",
       "    <tr>\n",
       "      <th>9</th>\n",
       "      <td>1.610560</td>\n",
       "      <td>1.010134</td>\n",
       "      <td>1.998692</td>\n",
       "      <td>1.205138</td>\n",
       "      <td>1.232932</td>\n",
       "    </tr>\n",
       "    <tr>\n",
       "      <th>10</th>\n",
       "      <td>1.090419</td>\n",
       "      <td>1.185358</td>\n",
       "      <td>1.852205</td>\n",
       "      <td>1.612371</td>\n",
       "      <td>1.283427</td>\n",
       "    </tr>\n",
       "    <tr>\n",
       "      <th>11</th>\n",
       "      <td>1.947459</td>\n",
       "      <td>1.825828</td>\n",
       "      <td>1.457813</td>\n",
       "      <td>1.152226</td>\n",
       "      <td>1.995645</td>\n",
       "    </tr>\n",
       "    <tr>\n",
       "      <th>12</th>\n",
       "      <td>1.298942</td>\n",
       "      <td>1.254513</td>\n",
       "      <td>1.613902</td>\n",
       "      <td>1.254411</td>\n",
       "      <td>1.713339</td>\n",
       "    </tr>\n",
       "    <tr>\n",
       "      <th>13</th>\n",
       "      <td>1.885338</td>\n",
       "      <td>1.549021</td>\n",
       "      <td>1.927054</td>\n",
       "      <td>1.543220</td>\n",
       "      <td>1.506382</td>\n",
       "    </tr>\n",
       "    <tr>\n",
       "      <th>14</th>\n",
       "      <td>1.078980</td>\n",
       "      <td>1.070876</td>\n",
       "      <td>1.401303</td>\n",
       "      <td>1.253177</td>\n",
       "      <td>1.052873</td>\n",
       "    </tr>\n",
       "    <tr>\n",
       "      <th>15</th>\n",
       "      <td>1.736796</td>\n",
       "      <td>1.538375</td>\n",
       "      <td>1.823834</td>\n",
       "      <td>1.271338</td>\n",
       "      <td>1.563990</td>\n",
       "    </tr>\n",
       "    <tr>\n",
       "      <th>16</th>\n",
       "      <td>1.583698</td>\n",
       "      <td>1.165221</td>\n",
       "      <td>1.257606</td>\n",
       "      <td>1.612403</td>\n",
       "      <td>1.286472</td>\n",
       "    </tr>\n",
       "    <tr>\n",
       "      <th>17</th>\n",
       "      <td>1.067791</td>\n",
       "      <td>1.079844</td>\n",
       "      <td>1.301073</td>\n",
       "      <td>1.490231</td>\n",
       "      <td>1.574253</td>\n",
       "    </tr>\n",
       "    <tr>\n",
       "      <th>18</th>\n",
       "      <td>1.046714</td>\n",
       "      <td>1.864600</td>\n",
       "      <td>1.715806</td>\n",
       "      <td>1.837581</td>\n",
       "      <td>1.149127</td>\n",
       "    </tr>\n",
       "    <tr>\n",
       "      <th>19</th>\n",
       "      <td>1.677276</td>\n",
       "      <td>1.311342</td>\n",
       "      <td>1.238259</td>\n",
       "      <td>1.472187</td>\n",
       "      <td>1.853402</td>\n",
       "    </tr>\n",
       "  </tbody>\n",
       "</table>\n",
       "</div>"
      ],
      "text/plain": [
       "           a         b         c         d         e\n",
       "0   1.862957  1.076097  1.716328  1.238588  1.313939\n",
       "1   1.725084  1.921311  1.042358  1.754576  1.110686\n",
       "2   1.617130  1.050749  1.948978  1.283732  1.091265\n",
       "3   1.420110  1.005997  1.374092  1.330103  1.494570\n",
       "4   1.649793  1.515592  1.589622  1.556847  1.664960\n",
       "5   1.580333  1.526929  1.794485  1.067952  1.754387\n",
       "6   1.439745  1.104182  1.721490  1.892764  1.646325\n",
       "7   1.063530  1.914915  1.125439  1.363377  1.922293\n",
       "8   1.918893  1.127336  1.274590  1.598710  1.567892\n",
       "9   1.610560  1.010134  1.998692  1.205138  1.232932\n",
       "10  1.090419  1.185358  1.852205  1.612371  1.283427\n",
       "11  1.947459  1.825828  1.457813  1.152226  1.995645\n",
       "12  1.298942  1.254513  1.613902  1.254411  1.713339\n",
       "13  1.885338  1.549021  1.927054  1.543220  1.506382\n",
       "14  1.078980  1.070876  1.401303  1.253177  1.052873\n",
       "15  1.736796  1.538375  1.823834  1.271338  1.563990\n",
       "16  1.583698  1.165221  1.257606  1.612403  1.286472\n",
       "17  1.067791  1.079844  1.301073  1.490231  1.574253\n",
       "18  1.046714  1.864600  1.715806  1.837581  1.149127\n",
       "19  1.677276  1.311342  1.238259  1.472187  1.853402"
      ]
     },
     "execution_count": 76,
     "metadata": {},
     "output_type": "execute_result"
    }
   ],
   "source": [
    "# Creating a dataframe with \"a\"-\"e\" columns\n",
    "import pandas as pd\n",
    "dtf=pd.DataFrame(req_arr,columns=['a','b','c','d','e'])\n",
    "dtf"
   ]
  },
  {
   "cell_type": "code",
   "execution_count": 87,
   "id": "176d854e",
   "metadata": {},
   "outputs": [
    {
     "name": "stdout",
     "output_type": "stream",
     "text": [
      "{'a': 0.30245680855421775, 'b': 0.31632825296030675, 'c': 0.2861335474215411, 'd': 0.2271158491995591, 'e': 0.27925537613409435}\n",
      "The column with max STD is: b\n"
     ]
    }
   ],
   "source": [
    "# Finding a column with highest standard deviation\n",
    "sd={}\n",
    "for col in dtf:\n",
    "    sd[col]=np.std(dtf[col]) # storing the column names and their standard deviation in a dictionary\n",
    "print(sd)\n",
    "print(\"The column with max STD is:\",max(sd,key=sd.get)) # getting the name of the col (key) having max std"
   ]
  },
  {
   "cell_type": "code",
   "execution_count": 89,
   "id": "c8e30bac",
   "metadata": {},
   "outputs": [
    {
     "name": "stdout",
     "output_type": "stream",
     "text": [
      "The row number with min mean is: 14\n"
     ]
    }
   ],
   "source": [
    "# Finding a row with lowest standard deviation\n",
    "mn={}\n",
    "for i in range(len(dtf)):\n",
    "    mn[i]=np.mean(dtf.iloc[i]) # storing the row numbers and their means in a dictionary\n",
    "print(\"The row number with min mean is:\",min(mn,key=mn.get)) # getting the name of the col (key) having max std"
   ]
  },
  {
   "cell_type": "markdown",
   "id": "bff8d050",
   "metadata": {},
   "source": [
    "**Q11. Add a new column to the dataframe called “f” which is the sum of the columns “a”, “b”, “c”, “d”, “e”. Create another column called “g”. The value in the column “g” should be “LT8” if the value in the column “f” is less than 8 and “GT8” otherwise. Find the number of rows in the dataframe where the value in the column “g” is “LT8”. Find the standard deviation of the column “f” for the rows where the value in the column “g” is “LT8” and “GT8” respectively.** "
   ]
  },
  {
   "cell_type": "markdown",
   "id": "0f197ae9",
   "metadata": {},
   "source": [
    "**Solution:**"
   ]
  },
  {
   "cell_type": "code",
   "execution_count": 98,
   "id": "cbc74596",
   "metadata": {},
   "outputs": [],
   "source": [
    "#Creating \"f\" and \"g\" columns\n",
    "dtf[\"f\"]=dtf[\"a\"]+dtf[\"b\"]+dtf[\"c\"]+dtf[\"d\"]+dtf[\"e\"]\n",
    "\n",
    "for i in range(len(dtf)):\n",
    "    if dtf.loc[i,\"f\"]<8:\n",
    "        dtf.loc[i,\"g\"]=\"LT8\"\n",
    "    else:\n",
    "        dtf.loc[i,\"g\"]=\"GT8\""
   ]
  },
  {
   "cell_type": "code",
   "execution_count": 110,
   "id": "ee84b38d",
   "metadata": {},
   "outputs": [
    {
     "name": "stdout",
     "output_type": "stream",
     "text": [
      "Respective Standard deviations of the rows of column 'f' when values of 'g' are LT8 and GT8:0.5313448117938326,0.016021974570553432\n"
     ]
    }
   ],
   "source": [
    "# finding std of rows in \"f\" based on conditions\n",
    "std1=np.std(dtf[dtf['g']==\"LT8\"].f)\n",
    "std2=np.std(dtf[dtf['g']==\"GT8\"].f)\n",
    "print(\"Respective Standard deviations of the rows of column 'f' when values of 'g' are LT8 and GT8:\"+str(std1)+\",\"+str(std2))"
   ]
  },
  {
   "cell_type": "markdown",
   "id": "da11304a",
   "metadata": {},
   "source": [
    "**Q12. Write a small piece of code to explain broadcasting in numpy.** "
   ]
  },
  {
   "cell_type": "markdown",
   "id": "55663da4",
   "metadata": {},
   "source": [
    "**Solution:**\n",
    "Broadcasting is one of the effective tools offered by Numpy to perform operations on the arrays of different shapes. Essentially, numpy stretches the smaller array to the larger array so that the said operations can be performed. For an example we can have two arrays of different shapes ($1\\times3$,$2\\times1$) as shown below, and do an operation(s) (Here,addition). After addition, the resultant matrix is of order $2\\times3$ wherein every row is formed by adding the each element of second matrix to the every element of matrix 1. Similarily, scalar addition, multiplication, etc. is possible with broadcasting. However, matrix multiplication cannot be performed using broadcasting. <br>\n",
    "**Note:** Broadcasting is possible only if the shapes of the arrays that are being broadcasted are compatible."
   ]
  },
  {
   "cell_type": "code",
   "execution_count": 23,
   "id": "f0ad680f",
   "metadata": {},
   "outputs": [
    {
     "data": {
      "text/plain": [
       "array([[5, 6, 7],\n",
       "       [6, 7, 8]])"
      ]
     },
     "execution_count": 23,
     "metadata": {},
     "output_type": "execute_result"
    }
   ],
   "source": [
    "import numpy as np\n",
    "d=np.array([1,2,3])\n",
    "e=np.array([[4],[5]])\n",
    "e+d"
   ]
  },
  {
   "cell_type": "markdown",
   "id": "dacebda7",
   "metadata": {},
   "source": [
    "**Q13. Write a function to compute the `argmin` of a numpy array. The function should take a numpy array as input and return the index of the minimum element. You can use the `np.argmin` function to verify your solution.** "
   ]
  },
  {
   "cell_type": "markdown",
   "id": "b5235f55",
   "metadata": {},
   "source": [
    "**Solution:**"
   ]
  },
  {
   "cell_type": "code",
   "execution_count": 8,
   "id": "ba05122a",
   "metadata": {},
   "outputs": [
    {
     "name": "stdout",
     "output_type": "stream",
     "text": [
      "Answer by custom function is: [0 5]\n",
      "Answer by default function is: 0\n"
     ]
    }
   ],
   "source": [
    "import numpy as np\n",
    "\n",
    "def argmin(arr):\n",
    "    p=np.where(arr==np.min(arr)) # finds the position of an element where it is the minimum value\n",
    "    return p\n",
    "    \n",
    "ray=np.array([-2,3,1,0,5,-2])\n",
    "g=argmin(ray)\n",
    "print(\"Answer by custom function is:\",g[0])\n",
    "print(\"Answer by default function is:\",np.argmin(ray))"
   ]
  },
  {
   "cell_type": "code",
   "execution_count": null,
   "id": "4c729535",
   "metadata": {},
   "outputs": [],
   "source": []
  }
 ],
 "metadata": {
  "kernelspec": {
   "display_name": "Python 3 (ipykernel)",
   "language": "python",
   "name": "python3"
  },
  "language_info": {
   "codemirror_mode": {
    "name": "ipython",
    "version": 3
   },
   "file_extension": ".py",
   "mimetype": "text/x-python",
   "name": "python",
   "nbconvert_exporter": "python",
   "pygments_lexer": "ipython3",
   "version": "3.10.9"
  }
 },
 "nbformat": 4,
 "nbformat_minor": 5
}
